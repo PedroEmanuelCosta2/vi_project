{
 "cells": [
  {
   "cell_type": "code",
   "execution_count": 1,
   "metadata": {},
   "outputs": [],
   "source": [
    "import pycountry\n",
    "import pandas as pd"
   ]
  },
  {
   "cell_type": "code",
   "execution_count": 2,
   "metadata": {},
   "outputs": [],
   "source": [
    "df = pd.read_excel(\"../data/armed_conflict/armed_conflict.xlsx\")"
   ]
  },
  {
   "cell_type": "code",
   "execution_count": 3,
   "metadata": {},
   "outputs": [],
   "source": [
    "countries = {}\n",
    "\n",
    "for country in pycountry.countries:\n",
    "    country_name = country.name.lower()\n",
    "    country_code = country.alpha_2\n",
    "\n",
    "    countries[country_name] = country_code"
   ]
  },
  {
   "cell_type": "code",
   "execution_count": 4,
   "metadata": {},
   "outputs": [
    {
     "data": {
      "text/plain": [
       "'SE'"
      ]
     },
     "execution_count": 4,
     "metadata": {},
     "output_type": "execute_result"
    }
   ],
   "source": [
    "countries['sweden']"
   ]
  },
  {
   "cell_type": "code",
   "execution_count": 29,
   "metadata": {},
   "outputs": [
    {
     "name": "stdout",
     "output_type": "stream",
     "text": [
      "Country(alpha_2='TZ', alpha_3='TZA', common_name='Tanzania', name='Tanzania, United Republic of', numeric='834', official_name='United Republic of Tanzania')\n",
      "Country(alpha_2='TZ', alpha_3='TZA', common_name='Tanzania', name='Tanzania, United Republic of', numeric='834', official_name='United Republic of Tanzania')\n",
      "Country(alpha_2='TZ', alpha_3='TZA', common_name='Tanzania', name='Tanzania, United Republic of', numeric='834', official_name='United Republic of Tanzania')\n"
     ]
    }
   ],
   "source": [
    "for c in pycountry.countries:\n",
    "    \n",
    "    name = \"Tanzania\"\n",
    "    \n",
    "    try:\n",
    "        if name in c.common_name:\n",
    "            print(c)\n",
    "    except:\n",
    "        pass\n",
    "    \n",
    "    try:\n",
    "        if name in c.common_name:\n",
    "            print(c)\n",
    "    except:\n",
    "        pass\n",
    "    \n",
    "    if name in c.name: \n",
    "        print(c)"
   ]
  },
  {
   "cell_type": "code",
   "execution_count": 7,
   "metadata": {},
   "outputs": [
    {
     "name": "stdout",
     "output_type": "stream",
     "text": [
      "tanzania\n",
      "ivory coast\n",
      "laos\n",
      "myanmar (burma)\n",
      "rumania\n",
      "moldova\n",
      "yemen (north yemen)\n",
      "russia (soviet union)\n",
      "iran\n",
      "dr congo (zaire)\n",
      "madagascar (malagasy)\n",
      "zimbabwe (rhodesia)\n",
      "cambodia (kampuchea)\n",
      "kingdom of eswatini (swaziland)\n",
      "macedonia, fyr\n",
      "united states of america\n",
      "bosnia-herzegovina\n",
      "serbia (yugoslavia)\n",
      "bolivia\n",
      "venezuela\n"
     ]
    }
   ],
   "source": [
    "for country in set(df.country.tolist()):\n",
    "    country = country.lower()\n",
    "    \n",
    "    if country not in countries.keys():\n",
    "        print(country)"
   ]
  }
 ],
 "metadata": {
  "kernelspec": {
   "display_name": "Python 3",
   "language": "python",
   "name": "python3"
  },
  "language_info": {
   "codemirror_mode": {
    "name": "ipython",
    "version": 3
   },
   "file_extension": ".py",
   "mimetype": "text/x-python",
   "name": "python",
   "nbconvert_exporter": "python",
   "pygments_lexer": "ipython3",
   "version": "3.6.5"
  }
 },
 "nbformat": 4,
 "nbformat_minor": 4
}
